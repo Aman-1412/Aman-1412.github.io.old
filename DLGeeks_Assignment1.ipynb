{
  "nbformat": 4,
  "nbformat_minor": 0,
  "metadata": {
    "colab": {
      "name": "DLGeeks_Assignment1.ipynb",
      "version": "0.3.2",
      "provenance": [],
      "include_colab_link": true
    },
    "kernelspec": {
      "name": "python3",
      "display_name": "Python 3"
    },
    "accelerator": "GPU"
  },
  "cells": [
    {
      "cell_type": "markdown",
      "metadata": {
        "id": "view-in-github",
        "colab_type": "text"
      },
      "source": [
        "<a href=\"https://colab.research.google.com/github/Aman-1412/Aman-1412.github.io/blob/master/DLGeeks_Assignment1.ipynb\" target=\"_parent\"><img src=\"https://colab.research.google.com/assets/colab-badge.svg\" alt=\"Open In Colab\"/></a>"
      ]
    },
    {
      "cell_type": "code",
      "metadata": {
        "id": "ZmzK2f-nTuWs",
        "colab_type": "code",
        "colab": {}
      },
      "source": [
        "from __future__ import absolute_import, division, print_function, unicode_literals\n",
        "\n",
        "import numpy as np\n",
        "import tensorflow as tf\n",
        "import matplotlib.pyplot as plt\n",
        "from tensorflow.keras.datasets import mnist\n",
        "from tensorflow.keras.models import Sequential\n",
        "from tensorflow.keras.layers import Dense\n",
        "from tensorflow.keras.layers import Dropout\n",
        "from tensorflow.keras.layers import Flatten\n",
        "from tensorflow.keras.utils import to_categorical\n",
        "\n",
        "%reload_ext autoreload\n",
        "%autoreload 2\n",
        "%matplotlib inline"
      ],
      "execution_count": 0,
      "outputs": []
    },
    {
      "cell_type": "code",
      "metadata": {
        "id": "vFMAC7YPT-oL",
        "colab_type": "code",
        "colab": {
          "base_uri": "https://localhost:8080/",
          "height": 35
        },
        "outputId": "f63056dd-e9e1-47eb-ac19-b22088678863"
      },
      "source": [
        "tf.__version__"
      ],
      "execution_count": 2,
      "outputs": [
        {
          "output_type": "execute_result",
          "data": {
            "text/plain": [
              "'1.14.0'"
            ]
          },
          "metadata": {
            "tags": []
          },
          "execution_count": 2
        }
      ]
    },
    {
      "cell_type": "code",
      "metadata": {
        "id": "WNn-SbpAUAZM",
        "colab_type": "code",
        "colab": {}
      },
      "source": [
        "(X_train, y_train), (X_test, y_test) = mnist.load_data()"
      ],
      "execution_count": 0,
      "outputs": []
    },
    {
      "cell_type": "code",
      "metadata": {
        "id": "AyZXVPkNUJFd",
        "colab_type": "code",
        "colab": {
          "base_uri": "https://localhost:8080/",
          "height": 35
        },
        "outputId": "3cae8c84-8f1a-4477-c611-96dbc4dfbc99"
      },
      "source": [
        "y_train_categorical = to_categorical(y_train)\n",
        "y_test_categorical = to_categorical(y_test)\n",
        "y_test_categorical.shape"
      ],
      "execution_count": 4,
      "outputs": [
        {
          "output_type": "execute_result",
          "data": {
            "text/plain": [
              "(10000, 10)"
            ]
          },
          "metadata": {
            "tags": []
          },
          "execution_count": 4
        }
      ]
    },
    {
      "cell_type": "code",
      "metadata": {
        "id": "6XWFa7UbWMeu",
        "colab_type": "code",
        "colab": {
          "base_uri": "https://localhost:8080/",
          "height": 269
        },
        "outputId": "ac2c182b-63e6-4b75-e1e5-42b813a2268e"
      },
      "source": [
        "plt.figure()\n",
        "plt.imshow(X_train[34])\n",
        "plt.colorbar()\n",
        "plt.show()"
      ],
      "execution_count": 5,
      "outputs": [
        {
          "output_type": "display_data",
          "data": {
            "image/png": "[encoded data removed]",
            "text/plain": [
              "<Figure size 432x288 with 2 Axes>"
            ]
          },
          "metadata": {
            "tags": []
          }
        }
      ]
    },
    {
      "cell_type": "code",
      "metadata": {
        "id": "9LbewBoqXH89",
        "colab_type": "code",
        "colab": {}
      },
      "source": [
        "X_train = X_train / 255.0\n",
        "X_test = X_test / 255.0"
      ],
      "execution_count": 0,
      "outputs": []
    },
    {
      "cell_type": "code",
      "metadata": {
        "id": "Ip1rehZ7YNY1",
        "colab_type": "code",
        "colab": {
          "base_uri": "https://localhost:8080/",
          "height": 367
        },
        "outputId": "8ddbcf11-bf00-4593-e5f1-9dc35246e89d"
      },
      "source": [
        "plt.figure(figsize = (10, 10))\n",
        "for i in range(15):\n",
        "  plt.subplot(5, 5, i+1)\n",
        "  plt.xticks([])\n",
        "  plt.yticks([])\n",
        "  plt.imshow(X_train[i], cmap = plt.cm.binary)\n",
        "  plt.xlabel(y_train[i])\n",
        "plt.show()"
      ],
      "execution_count": 7,
      "outputs": [
        {
          "output_type": "display_data",
          "data": {
            "image/png": "[encoded data removed]",
            "text/plain": [
              "<Figure size 720x720 with 15 Axes>"
            ]
          },
          "metadata": {
            "tags": []
          }
        }
      ]
    },
    {
      "cell_type": "code",
      "metadata": {
        "id": "6b6eUDRjipXE",
        "colab_type": "code",
        "colab": {}
      },
      "source": [
        "num_of_pixels = X_train.shape[1] * X_train.shape[2]\n",
        "X_train = X_train.reshape(X_train.shape[0], num_of_pixels).astype(\"float32\")\n",
        "X_test = X_test.reshape(X_test.shape[0], num_of_pixels).astype(\"float32\")"
      ],
      "execution_count": 0,
      "outputs": []
    },
    {
      "cell_type": "code",
      "metadata": {
        "id": "n3kZUkBeY6IJ",
        "colab_type": "code",
        "colab": {}
      },
      "source": [
        "def four_layer_model():\n",
        "  model = Sequential()\n",
        "  model.add(Dense(128, input_dim = num_of_pixels, activation = 'relu', kernel_initializer = 'glorot_normal', use_bias = True))\n",
        "  model.add(Dropout(rate = 0.4))\n",
        "  model.add(Dense(64, activation = 'relu', kernel_initializer = 'glorot_normal', use_bias = True))\n",
        "  model.add(Dropout(rate = 0.4))\n",
        "  model.add(Dense(64, activation = 'relu', kernel_initializer = 'glorot_normal', use_bias = True))\n",
        "  model.add(Dense(y_train_categorical.shape[1], activation = 'softmax', kernel_initializer = 'glorot_normal', use_bias = True))\n",
        "  model.compile(loss='categorical_crossentropy', optimizer='adam', metrics=['accuracy'])\n",
        "  return model "
      ],
      "execution_count": 0,
      "outputs": []
    },
    {
      "cell_type": "code",
      "metadata": {
        "id": "iUcI9pg3fHMb",
        "colab_type": "code",
        "colab": {
          "base_uri": "https://localhost:8080/",
          "height": 655
        },
        "outputId": "d397febe-6d20-4532-e5b6-bf54fb41dffa"
      },
      "source": [
        "model = four_layer_model()\n",
        "model.fit(X_train, y_train_categorical, batch_size = 128, epochs = 15, verbose = 2)"
      ],
      "execution_count": 10,
      "outputs": [
        {
          "output_type": "stream",
          "text": [
            "WARNING:tensorflow:From /usr/local/lib/python3.6/dist-packages/tensorflow/python/ops/init_ops.py:1288: calling VarianceScaling.__init__ (from tensorflow.python.ops.init_ops) with dtype is deprecated and will be removed in a future version.\n",
            "Instructions for updating:\n",
            "Call initializer instance with the dtype argument instead of passing it to the constructor\n",
            "Epoch 1/15\n",
            "60000/60000 - 2s - loss: 0.6434 - acc: 0.7991\n",
            "Epoch 2/15\n",
            "60000/60000 - 2s - loss: 0.2922 - acc: 0.9171\n",
            "Epoch 3/15\n",
            "60000/60000 - 2s - loss: 0.2318 - acc: 0.9342\n",
            "Epoch 4/15\n",
            "60000/60000 - 2s - loss: 0.2008 - acc: 0.9425\n",
            "Epoch 5/15\n",
            "60000/60000 - 2s - loss: 0.1818 - acc: 0.9473\n",
            "Epoch 6/15\n",
            "60000/60000 - 2s - loss: 0.1584 - acc: 0.9532\n",
            "Epoch 7/15\n",
            "60000/60000 - 2s - loss: 0.1542 - acc: 0.9552\n",
            "Epoch 8/15\n",
            "60000/60000 - 2s - loss: 0.1416 - acc: 0.9582\n",
            "Epoch 9/15\n",
            "60000/60000 - 2s - loss: 0.1375 - acc: 0.9597\n",
            "Epoch 10/15\n",
            "60000/60000 - 2s - loss: 0.1291 - acc: 0.9624\n",
            "Epoch 11/15\n",
            "60000/60000 - 2s - loss: 0.1263 - acc: 0.9627\n",
            "Epoch 12/15\n",
            "60000/60000 - 2s - loss: 0.1230 - acc: 0.9643\n",
            "Epoch 13/15\n",
            "60000/60000 - 2s - loss: 0.1169 - acc: 0.9657\n",
            "Epoch 14/15\n",
            "60000/60000 - 2s - loss: 0.1121 - acc: 0.9662\n",
            "Epoch 15/15\n",
            "60000/60000 - 2s - loss: 0.1076 - acc: 0.9682\n"
          ],
          "name": "stdout"
        },
        {
          "output_type": "execute_result",
          "data": {
            "text/plain": [
              "<tensorflow.python.keras.callbacks.History at 0x7f10a26f36a0>"
            ]
          },
          "metadata": {
            "tags": []
          },
          "execution_count": 10
        }
      ]
    },
    {
      "cell_type": "code",
      "metadata": {
        "id": "VHrGqw_YfgkQ",
        "colab_type": "code",
        "colab": {
          "base_uri": "https://localhost:8080/",
          "height": 35
        },
        "outputId": "cd2eb1a5-b07e-4ff2-ddee-c547c503ca3b"
      },
      "source": [
        "test_loss, test_acc = model.evaluate(X_test, y_test_categorical, verbose = 2)"
      ],
      "execution_count": 11,
      "outputs": [
        {
          "output_type": "stream",
          "text": [
            "10000/10000 - 1s - loss: 0.0839 - acc: 0.9763\n"
          ],
          "name": "stdout"
        }
      ]
    },
    {
      "cell_type": "code",
      "metadata": {
        "id": "Bb-s9MvekJVf",
        "colab_type": "code",
        "colab": {
          "base_uri": "https://localhost:8080/",
          "height": 54
        },
        "outputId": "daa8b58e-e398-4288-eeae-080eb4eb71bb"
      },
      "source": [
        "print(f\"Test accuracy: {test_acc}\")\n",
        "print(f\"Baseline error: {100 - test_acc * 100}\")"
      ],
      "execution_count": 12,
      "outputs": [
        {
          "output_type": "stream",
          "text": [
            "Test accuracy: 0.9763000011444092\n",
            "Baseline error: 2.369999885559082\n"
          ],
          "name": "stdout"
        }
      ]
    },
    {
      "cell_type": "code",
      "metadata": {
        "id": "FTPSj_INkSS1",
        "colab_type": "code",
        "colab": {
          "base_uri": "https://localhost:8080/",
          "height": 108
        },
        "outputId": "36b17d9b-5f3a-4443-f457-57f56b9b4dd7"
      },
      "source": [
        "predictions = model.predict(X_test)\n",
        "print(predictions[0])\n",
        "print(f\"Predicted class: {np.argmax(predictions[0])} \\nActual class: {y_test[0]} \\\n",
        "      \\nPredicted class probability: {np.max(predictions[0]) * 100}\")"
      ],
      "execution_count": 13,
      "outputs": [
        {
          "output_type": "stream",
          "text": [
            "[1.8096321e-12 1.5998523e-07 7.4842575e-07 5.1833954e-06 1.0193719e-09\n",
            " 5.5960228e-09 5.7810965e-17 9.9999380e-01 1.2669331e-10 1.1614226e-07]\n",
            "Predicted class: 7 \n",
            "Actual class: 7       \n",
            "Predicted class probability: 99.99938011169434\n"
          ],
          "name": "stdout"
        }
      ]
    },
    {
      "cell_type": "code",
      "metadata": {
        "id": "tiRu7lTdll1r",
        "colab_type": "code",
        "colab": {}
      },
      "source": [
        ""
      ],
      "execution_count": 0,
      "outputs": []
    }
  ]
}